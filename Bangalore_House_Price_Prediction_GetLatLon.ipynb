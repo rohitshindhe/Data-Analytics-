{
  "nbformat": 4,
  "nbformat_minor": 0,
  "metadata": {
    "colab": {
      "name": "BangaloreData_GetLatLon.ipynb",
      "provenance": [],
      "collapsed_sections": []
    },
    "kernelspec": {
      "name": "python3",
      "display_name": "Python 3"
    }
  },
  "cells": [
    {
      "cell_type": "code",
      "metadata": {
        "id": "2MC6ShJK_FkE",
        "colab_type": "code",
        "colab": {}
      },
      "source": [
        "!pip install geocoder\n",
        "!pip install geopy\n",
        "!pip install folium"
      ],
      "execution_count": 0,
      "outputs": []
    },
    {
      "cell_type": "code",
      "metadata": {
        "id": "eroXIwvH0C6T",
        "colab_type": "code",
        "outputId": "875bec87-4149-43bf-c8b5-2eda91b67c38",
        "colab": {
          "base_uri": "https://localhost:8080/",
          "height": 72
        }
      },
      "source": [
        "# Import the required libraries\n",
        "import pandas as pd\n",
        "import numpy as np\n",
        "from geopy.extra.rate_limiter import RateLimiter\n",
        "from geopy.geocoders import Nominatim # convert an address into latitude and longitude values\n",
        "import geocoder # to get coordinates\n",
        "import folium # map rendering library\n",
        "import re\n",
        "import seaborn as sns"
      ],
      "execution_count": 0,
      "outputs": [
        {
          "output_type": "stream",
          "text": [
            "/usr/local/lib/python3.6/dist-packages/statsmodels/tools/_testing.py:19: FutureWarning: pandas.util.testing is deprecated. Use the functions in the public API at pandas.testing instead.\n",
            "  import pandas.util.testing as tm\n"
          ],
          "name": "stderr"
        }
      ]
    },
    {
      "cell_type": "markdown",
      "metadata": {
        "id": "sQGfJkw7qolf",
        "colab_type": "text"
      },
      "source": [
        "# **Creating Dataframe and viewing the structure of Bangalore House Dataset**"
      ]
    },
    {
      "cell_type": "code",
      "metadata": {
        "id": "TohBAK620I4M",
        "colab_type": "code",
        "outputId": "ee1b561a-4bae-48f9-ba27-30a64131d39b",
        "colab": {
          "base_uri": "https://localhost:8080/",
          "height": 195
        }
      },
      "source": [
        "# Import the kaggle dataset\n",
        "house_df = pd.read_csv(\"Bengaluru_House_Data.csv\")\n",
        "house_df.head()"
      ],
      "execution_count": 0,
      "outputs": [
        {
          "output_type": "execute_result",
          "data": {
            "text/html": [
              "<div>\n",
              "<style scoped>\n",
              "    .dataframe tbody tr th:only-of-type {\n",
              "        vertical-align: middle;\n",
              "    }\n",
              "\n",
              "    .dataframe tbody tr th {\n",
              "        vertical-align: top;\n",
              "    }\n",
              "\n",
              "    .dataframe thead th {\n",
              "        text-align: right;\n",
              "    }\n",
              "</style>\n",
              "<table border=\"1\" class=\"dataframe\">\n",
              "  <thead>\n",
              "    <tr style=\"text-align: right;\">\n",
              "      <th></th>\n",
              "      <th>area_type</th>\n",
              "      <th>availability</th>\n",
              "      <th>location</th>\n",
              "      <th>size</th>\n",
              "      <th>society</th>\n",
              "      <th>total_sqft</th>\n",
              "      <th>bath</th>\n",
              "      <th>balcony</th>\n",
              "      <th>price</th>\n",
              "    </tr>\n",
              "  </thead>\n",
              "  <tbody>\n",
              "    <tr>\n",
              "      <th>0</th>\n",
              "      <td>Super built-up  Area</td>\n",
              "      <td>19-Dec</td>\n",
              "      <td>Electronic City Phase II</td>\n",
              "      <td>2 BHK</td>\n",
              "      <td>Coomee</td>\n",
              "      <td>1056</td>\n",
              "      <td>2.0</td>\n",
              "      <td>1.0</td>\n",
              "      <td>39.07</td>\n",
              "    </tr>\n",
              "    <tr>\n",
              "      <th>1</th>\n",
              "      <td>Plot  Area</td>\n",
              "      <td>Ready To Move</td>\n",
              "      <td>Chikka Tirupathi</td>\n",
              "      <td>4 Bedroom</td>\n",
              "      <td>Theanmp</td>\n",
              "      <td>2600</td>\n",
              "      <td>5.0</td>\n",
              "      <td>3.0</td>\n",
              "      <td>120.00</td>\n",
              "    </tr>\n",
              "    <tr>\n",
              "      <th>2</th>\n",
              "      <td>Built-up  Area</td>\n",
              "      <td>Ready To Move</td>\n",
              "      <td>Uttarahalli</td>\n",
              "      <td>3 BHK</td>\n",
              "      <td>NaN</td>\n",
              "      <td>1440</td>\n",
              "      <td>2.0</td>\n",
              "      <td>3.0</td>\n",
              "      <td>62.00</td>\n",
              "    </tr>\n",
              "    <tr>\n",
              "      <th>3</th>\n",
              "      <td>Super built-up  Area</td>\n",
              "      <td>Ready To Move</td>\n",
              "      <td>Lingadheeranahalli</td>\n",
              "      <td>3 BHK</td>\n",
              "      <td>Soiewre</td>\n",
              "      <td>1521</td>\n",
              "      <td>3.0</td>\n",
              "      <td>1.0</td>\n",
              "      <td>95.00</td>\n",
              "    </tr>\n",
              "    <tr>\n",
              "      <th>4</th>\n",
              "      <td>Super built-up  Area</td>\n",
              "      <td>Ready To Move</td>\n",
              "      <td>Kothanur</td>\n",
              "      <td>2 BHK</td>\n",
              "      <td>NaN</td>\n",
              "      <td>1200</td>\n",
              "      <td>2.0</td>\n",
              "      <td>1.0</td>\n",
              "      <td>51.00</td>\n",
              "    </tr>\n",
              "  </tbody>\n",
              "</table>\n",
              "</div>"
            ],
            "text/plain": [
              "              area_type   availability  ... balcony   price\n",
              "0  Super built-up  Area         19-Dec  ...     1.0   39.07\n",
              "1            Plot  Area  Ready To Move  ...     3.0  120.00\n",
              "2        Built-up  Area  Ready To Move  ...     3.0   62.00\n",
              "3  Super built-up  Area  Ready To Move  ...     1.0   95.00\n",
              "4  Super built-up  Area  Ready To Move  ...     1.0   51.00\n",
              "\n",
              "[5 rows x 9 columns]"
            ]
          },
          "metadata": {
            "tags": []
          },
          "execution_count": 3
        }
      ]
    },
    {
      "cell_type": "markdown",
      "metadata": {
        "id": "D_ZWfF32q5Dc",
        "colab_type": "text"
      },
      "source": [
        "# **Getting Location Coordinates**"
      ]
    },
    {
      "cell_type": "code",
      "metadata": {
        "id": "7sK-5rKv2phn",
        "colab_type": "code",
        "colab": {}
      },
      "source": [
        "# Add city name to location column to get the latitude and longitude.\n",
        "house_df['location'] = house_df['location'].astype(str) + ', Bangalore'"
      ],
      "execution_count": 0,
      "outputs": []
    },
    {
      "cell_type": "code",
      "metadata": {
        "id": "5iibQhJj0l8p",
        "colab_type": "code",
        "colab": {}
      },
      "source": [
        "# User defined function to get the location coordinates\n",
        "def get_latlng(location):\n",
        "    # initialize your variable to None\n",
        "    lat_lng_coords = None\n",
        "    # loop until you get the coordinates\n",
        "    while(lat_lng_coords is None):\n",
        "        g = geocoder.arcgis('{}'.format(location))\n",
        "        lat_lng_coords = g.latlng\n",
        "    return lat_lng_coords"
      ],
      "execution_count": 0,
      "outputs": []
    },
    {
      "cell_type": "code",
      "metadata": {
        "id": "Ggih5V-H4ZQI",
        "colab_type": "code",
        "colab": {}
      },
      "source": [
        "# Get the latitude and longitude coordinates\n",
        "coords = [ get_latlng(location) for location in house_df[\"location\"].tolist() ]"
      ],
      "execution_count": 0,
      "outputs": []
    },
    {
      "cell_type": "code",
      "metadata": {
        "id": "M0sfI4To4rCV",
        "colab_type": "code",
        "colab": {}
      },
      "source": [
        "# create temporary dataframe to populate the coordinates into Latitude and Longitude\n",
        "df_coords = pd.DataFrame(coords, columns=['Latitude', 'Longitude'])"
      ],
      "execution_count": 0,
      "outputs": []
    },
    {
      "cell_type": "code",
      "metadata": {
        "id": "5LKHu61i4uWz",
        "colab_type": "code",
        "colab": {}
      },
      "source": [
        "# merge the coordinates into the original dataframe\n",
        "house_df['Latitude'] = df_coords['Latitude']\n",
        "house_df['Longitude'] = df_coords['Longitude']"
      ],
      "execution_count": 0,
      "outputs": []
    },
    {
      "cell_type": "code",
      "metadata": {
        "id": "wbLWuQ_HqMX0",
        "colab_type": "code",
        "colab": {}
      },
      "source": [
        "# Save the data to a new file for further processing\n",
        "house_df.to_csv(r'Bengaluru_data.csv', index = False)"
      ],
      "execution_count": 0,
      "outputs": []
    },
    {
      "cell_type": "markdown",
      "metadata": {
        "id": "d0icZYBisIFp",
        "colab_type": "text"
      },
      "source": [
        "# **Structure of Bangalore house dataset along with coordinates**"
      ]
    },
    {
      "cell_type": "code",
      "metadata": {
        "id": "zlUsA6hq8u8k",
        "colab_type": "code",
        "outputId": "bd3baff5-1be2-48b6-a79c-49e094f6434a",
        "colab": {
          "base_uri": "https://localhost:8080/",
          "height": 195
        }
      },
      "source": [
        "# Import dataset along with coordinates\n",
        "house_df = pd.read_csv(\"Bengaluru_data.csv\")\n",
        "house_df.head()"
      ],
      "execution_count": 0,
      "outputs": [
        {
          "output_type": "execute_result",
          "data": {
            "text/html": [
              "<div>\n",
              "<style scoped>\n",
              "    .dataframe tbody tr th:only-of-type {\n",
              "        vertical-align: middle;\n",
              "    }\n",
              "\n",
              "    .dataframe tbody tr th {\n",
              "        vertical-align: top;\n",
              "    }\n",
              "\n",
              "    .dataframe thead th {\n",
              "        text-align: right;\n",
              "    }\n",
              "</style>\n",
              "<table border=\"1\" class=\"dataframe\">\n",
              "  <thead>\n",
              "    <tr style=\"text-align: right;\">\n",
              "      <th></th>\n",
              "      <th>area_type</th>\n",
              "      <th>availability</th>\n",
              "      <th>location</th>\n",
              "      <th>size</th>\n",
              "      <th>society</th>\n",
              "      <th>total_sqft</th>\n",
              "      <th>bath</th>\n",
              "      <th>balcony</th>\n",
              "      <th>price</th>\n",
              "      <th>Latitude</th>\n",
              "      <th>Longitude</th>\n",
              "    </tr>\n",
              "  </thead>\n",
              "  <tbody>\n",
              "    <tr>\n",
              "      <th>0</th>\n",
              "      <td>Super built-up  Area</td>\n",
              "      <td>19-Dec</td>\n",
              "      <td>Electronic City Phase II, Bangalore</td>\n",
              "      <td>2 BHK</td>\n",
              "      <td>Coomee</td>\n",
              "      <td>1056</td>\n",
              "      <td>2.0</td>\n",
              "      <td>1.0</td>\n",
              "      <td>39.07</td>\n",
              "      <td>12.848672</td>\n",
              "      <td>77.677529</td>\n",
              "    </tr>\n",
              "    <tr>\n",
              "      <th>1</th>\n",
              "      <td>Plot  Area</td>\n",
              "      <td>Ready To Move</td>\n",
              "      <td>Chikka Tirupathi, Bangalore</td>\n",
              "      <td>4 Bedroom</td>\n",
              "      <td>Theanmp</td>\n",
              "      <td>2600</td>\n",
              "      <td>5.0</td>\n",
              "      <td>3.0</td>\n",
              "      <td>120.00</td>\n",
              "      <td>12.904190</td>\n",
              "      <td>77.505480</td>\n",
              "    </tr>\n",
              "    <tr>\n",
              "      <th>2</th>\n",
              "      <td>Built-up  Area</td>\n",
              "      <td>Ready To Move</td>\n",
              "      <td>Uttarahalli, Bangalore</td>\n",
              "      <td>3 BHK</td>\n",
              "      <td>NaN</td>\n",
              "      <td>1440</td>\n",
              "      <td>2.0</td>\n",
              "      <td>3.0</td>\n",
              "      <td>62.00</td>\n",
              "      <td>12.897570</td>\n",
              "      <td>77.528300</td>\n",
              "    </tr>\n",
              "    <tr>\n",
              "      <th>3</th>\n",
              "      <td>Super built-up  Area</td>\n",
              "      <td>Ready To Move</td>\n",
              "      <td>Lingadheeranahalli, Bangalore</td>\n",
              "      <td>3 BHK</td>\n",
              "      <td>Soiewre</td>\n",
              "      <td>1521</td>\n",
              "      <td>3.0</td>\n",
              "      <td>1.0</td>\n",
              "      <td>95.00</td>\n",
              "      <td>13.001340</td>\n",
              "      <td>77.479150</td>\n",
              "    </tr>\n",
              "    <tr>\n",
              "      <th>4</th>\n",
              "      <td>Super built-up  Area</td>\n",
              "      <td>Ready To Move</td>\n",
              "      <td>Kothanur, Bangalore</td>\n",
              "      <td>2 BHK</td>\n",
              "      <td>NaN</td>\n",
              "      <td>1200</td>\n",
              "      <td>2.0</td>\n",
              "      <td>1.0</td>\n",
              "      <td>51.00</td>\n",
              "      <td>13.064340</td>\n",
              "      <td>77.648550</td>\n",
              "    </tr>\n",
              "  </tbody>\n",
              "</table>\n",
              "</div>"
            ],
            "text/plain": [
              "              area_type   availability  ...   Latitude  Longitude\n",
              "0  Super built-up  Area         19-Dec  ...  12.848672  77.677529\n",
              "1            Plot  Area  Ready To Move  ...  12.904190  77.505480\n",
              "2        Built-up  Area  Ready To Move  ...  12.897570  77.528300\n",
              "3  Super built-up  Area  Ready To Move  ...  13.001340  77.479150\n",
              "4  Super built-up  Area  Ready To Move  ...  13.064340  77.648550\n",
              "\n",
              "[5 rows x 11 columns]"
            ]
          },
          "metadata": {
            "tags": []
          },
          "execution_count": 3
        }
      ]
    },
    {
      "cell_type": "code",
      "metadata": {
        "id": "tiG8r4DDwtPP",
        "colab_type": "code",
        "colab": {}
      },
      "source": [
        ""
      ],
      "execution_count": 0,
      "outputs": []
    }
  ]
}